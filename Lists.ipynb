{
 "cells": [
  {
   "cell_type": "code",
   "execution_count": null,
   "metadata": {},
   "outputs": [],
   "source": [
    "lista = [1,2,3,4,10]\n",
    "summa = int()\n",
    "greatest = int()\n",
    "for x in range(len(lista)):\n",
    "    summa += lista[x]\n",
    "print(summa)\n",
    "print(max(lista))"
   ]
  },
  {
   "cell_type": "code",
   "execution_count": null,
   "metadata": {},
   "outputs": [],
   "source": [
    "list = [\"table\", \"chair\", \"shelf\", \"sofa\"]\n",
    "for x in range(len(list)):\n",
    "    if list[x] == \"sofa\":\n",
    "        print(list[x])"
   ]
  }
 ],
 "metadata": {
  "language_info": {
   "name": "python"
  }
 },
 "nbformat": 4,
 "nbformat_minor": 2
}
