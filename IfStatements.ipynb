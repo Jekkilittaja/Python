{
 "cells": [
  {
   "cell_type": "code",
   "execution_count": 5,
   "metadata": {},
   "outputs": [
    {
     "name": "stdout",
     "output_type": "stream",
     "text": [
      "3 is bigger\n",
      "3 is equal or greater than  2\n",
      "3 is not equal to 2\n",
      "Something\n"
     ]
    }
   ],
   "source": [
    "number1 = 3\n",
    "number2 = 2\n",
    "number3 = 3\n",
    "\n",
    "if number1 > number2:\n",
    "    print(str(number1) + \" is bigger\")\n",
    "\n",
    "if number1 == number2 == number3:\n",
    "    print(\"Numbers are equal\")\n",
    "\n",
    "if number1 >= number2:\n",
    "    print(str(number1) + \" is equal or greater than \",number2)\n",
    "\n",
    "if number1 != number2:\n",
    "    print(str(number1) + \" is not equal to \" + str(number2))\n",
    "\n",
    "if number1 == number2 & number2 == number3:\n",
    "    print(\"Numbers are equal\")\n",
    "\n",
    "if number1 > number2 & number1 > number3:\n",
    "    print(\"Number1 is greater than number2 and number3\")\n",
    "\n",
    "if number1 < number2:\n",
    "    if number2 > number3:\n",
    "        print(\"Number2 is greatest\")\n",
    "\n",
    "if number1 != number2:\n",
    "    if number1 == number3:\n",
    "        print(\"Something\")\n",
    "    elif number1 != number3:\n",
    "        print(\"Something else\")\n",
    "\n",
    "\n"
   ]
  },
  {
   "cell_type": "code",
   "execution_count": null,
   "metadata": {},
   "outputs": [
    {
     "name": "stdout",
     "output_type": "stream",
     "text": [
      "Name1 and Name3 are equal\n",
      "Name1 and Name2 are not equal\n"
     ]
    }
   ],
   "source": [
    "name1 = \"John\"\n",
    "name2 = \"Joh\"\n",
    "name3 = \"John\"\n",
    "\n",
    "if name1 == name2:\n",
    "    print(\"Name1 and Name2 are equal\")\n",
    "elif name1 == name3:\n",
    "    print(\"Name1 and Name3 are equal\")\n",
    "if name1 != name2:\n",
    "    print(\"Name1 and Name2 are not equal\")\n"
   ]
  }
 ],
 "metadata": {
  "kernelspec": {
   "display_name": "Python 3",
   "language": "python",
   "name": "python3"
  },
  "language_info": {
   "codemirror_mode": {
    "name": "ipython",
    "version": 3
   },
   "file_extension": ".py",
   "mimetype": "text/x-python",
   "name": "python",
   "nbconvert_exporter": "python",
   "pygments_lexer": "ipython3",
   "version": "3.13.0"
  }
 },
 "nbformat": 4,
 "nbformat_minor": 2
}
