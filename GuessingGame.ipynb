{
 "cells": [
  {
   "cell_type": "code",
   "execution_count": null,
   "metadata": {},
   "outputs": [
    {
     "name": "stdout",
     "output_type": "stream",
     "text": [
      "Wrong\n",
      "Correct\n",
      "2\n"
     ]
    }
   ],
   "source": [
    "#hasGuessed = False\n",
    "guessedName = str()\n",
    "correctName = \"John\"\n",
    "numberOfGuesses = 0\n",
    "while not guessedName == correctName:\n",
    "    guessedName = input(\"Guess my name: \")\n",
    "    numberOfGuesses = numberOfGuesses + 1\n",
    "    if guessedName == correctName:\n",
    "        #hasGuessed = True\n",
    "        print(\"Correct\")\n",
    "        print(\"Guesses: \", numberOfGuesses)\n",
    "    else:\n",
    "        print(\"Wrong\")\n",
    "        if input(\"Do you want to quit (y/n) ?\") == \"y\":\n",
    "            break\n",
    "        \n"
   ]
  }
 ],
 "metadata": {
  "kernelspec": {
   "display_name": "Python 3",
   "language": "python",
   "name": "python3"
  },
  "language_info": {
   "codemirror_mode": {
    "name": "ipython",
    "version": 3
   },
   "file_extension": ".py",
   "mimetype": "text/x-python",
   "name": "python",
   "nbconvert_exporter": "python",
   "pygments_lexer": "ipython3",
   "version": "3.13.0"
  }
 },
 "nbformat": 4,
 "nbformat_minor": 2
}
