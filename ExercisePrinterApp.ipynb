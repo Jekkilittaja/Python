{
 "cells": [
  {
   "cell_type": "code",
   "execution_count": null,
   "metadata": {},
   "outputs": [
    {
     "name": "stdout",
     "output_type": "stream",
     "text": [
      "Printer App\n",
      "This app is made by: \n",
      "Viljami\n",
      "The value of number1 is 11\n",
      "The value of number2 is 2\n",
      "11 * 2 = 22\n",
      "11 + 2 = 13\n",
      "11 - 2 = 9\n",
      "11 / 2 = 5.5\n"
     ]
    }
   ],
   "source": [
    "creator = str(\"Viljami\")\n",
    "number1 = 11\n",
    "number2 = 2\n",
    "multiplication = int()\n",
    "addition = int()\n",
    "substraction = int()\n",
    "division = int()\n",
    "\n",
    "print(\"Printer App\")\n",
    "print(\"This app is made by: \")\n",
    "print(creator)\n",
    "#print(number1)\n",
    "\n",
    "print(\"The value of number1 is \" + str(number1))\n",
    "print(\"The value of number2 is \" + str(number2))\n",
    "\n",
    "multiplication = number1 * number2\n",
    "print(str(number1) + \" * \" + str(number2) + \" = \" + str(multiplication))\n",
    "\n",
    "addition = number1 + number2\n",
    "print(str(number1) + \" + \" + str(number2) + \" = \" + str(addition))\n",
    "\n",
    "substraction = number1 - number2\n",
    "print(str(number1) + \" - \" + str(number2) + \" = \" + str(substraction))\n",
    "\n",
    "division = number1 / number2\n",
    "print(str(number1) + \" / \" + str(number2) + \" = \" + str(division))"
   ]
  }
 ],
 "metadata": {
  "kernelspec": {
   "display_name": "Python 3",
   "language": "python",
   "name": "python3"
  },
  "language_info": {
   "codemirror_mode": {
    "name": "ipython",
    "version": 3
   },
   "file_extension": ".py",
   "mimetype": "text/x-python",
   "name": "python",
   "nbconvert_exporter": "python",
   "pygments_lexer": "ipython3",
   "version": "3.13.0"
  }
 },
 "nbformat": 4,
 "nbformat_minor": 2
}
